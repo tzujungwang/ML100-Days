{
 "cells": [
  {
   "cell_type": "markdown",
   "metadata": {},
   "source": [
    "## Work\n",
    "1. 試改變 monitor \"Validation Accuracy\" 並比較結果\n",
    "2. 調整 earlystop 的等待次數至 10, 25 並比較結果"
   ]
  },
  {
   "cell_type": "code",
   "execution_count": 1,
   "metadata": {},
   "outputs": [
    {
     "name": "stderr",
     "output_type": "stream",
     "text": [
      "Using TensorFlow backend.\n"
     ]
    }
   ],
   "source": [
    "import os\n",
    "import keras\n",
    "import matplotlib.pyplot as plt\n",
    "%matplotlib inline\n",
    "\n",
    "\n",
    "# Disable GPU\n",
    "os.environ[\"CUDA_VISIBLE_DEVICES\"] = \"\""
   ]
  },
  {
   "cell_type": "code",
   "execution_count": 2,
   "metadata": {},
   "outputs": [],
   "source": [
    "train, test = keras.datasets.cifar10.load_data()"
   ]
  },
  {
   "cell_type": "code",
   "execution_count": 3,
   "metadata": {},
   "outputs": [],
   "source": [
    "## 資料前處理\n",
    "def preproc_x(x, flatten=True):\n",
    "    x = x / 255.\n",
    "    if flatten:\n",
    "        x = x.reshape((len(x), -1))\n",
    "    return x\n",
    "\n",
    "def preproc_y(y, num_classes=10):\n",
    "    if y.shape[-1] == 1:\n",
    "        y = keras.utils.to_categorical(y, num_classes)\n",
    "    return y    "
   ]
  },
  {
   "cell_type": "code",
   "execution_count": 4,
   "metadata": {},
   "outputs": [],
   "source": [
    "x_train, y_train = train\n",
    "x_test, y_test = test\n",
    "\n",
    "# Preproc the inputs\n",
    "x_train = preproc_x(x_train)\n",
    "x_test = preproc_x(x_test)\n",
    "\n",
    "# Preprc the outputs\n",
    "y_train = preproc_y(y_train)\n",
    "y_test = preproc_y(y_test)"
   ]
  },
  {
   "cell_type": "code",
   "execution_count": 5,
   "metadata": {},
   "outputs": [],
   "source": [
    "\n",
    "from keras.layers import BatchNormalization\n",
    "def build_mlp(input_shape, output_units=10, num_neurons=[512, 256, 128]):\n",
    "    input_layer = keras.layers.Input(input_shape)\n",
    "    \n",
    "    for i, n_units in enumerate(num_neurons):\n",
    "        if i == 0:\n",
    "            x = keras.layers.Dense(units=n_units, \n",
    "                                   activation=\"relu\", \n",
    "                                   name=\"hidden_layer\"+str(i+1))(input_layer)\n",
    "            x = BatchNormalization()(x)\n",
    "        else:\n",
    "            x = keras.layers.Dense(units=n_units, \n",
    "                                   activation=\"relu\", \n",
    "                                   name=\"hidden_layer\"+str(i+1))(x)\n",
    "            x = BatchNormalization()(x)\n",
    "    \n",
    "    out = keras.layers.Dense(units=output_units, activation=\"softmax\", name=\"output\")(x)\n",
    "    \n",
    "    model = keras.models.Model(inputs=[input_layer], outputs=[out])\n",
    "    return model"
   ]
  },
  {
   "cell_type": "code",
   "execution_count": 6,
   "metadata": {},
   "outputs": [],
   "source": [
    "## 超參數設定\n",
    "\"\"\"\n",
    "Set your hyper-parameters\n",
    "\"\"\"\n",
    "LEARNING_RATE = 1e-3\n",
    "EPOCHS = 50\n",
    "BATCH_SIZE = 512\n",
    "MOMENTUM = 0.95"
   ]
  },
  {
   "cell_type": "code",
   "execution_count": 7,
   "metadata": {},
   "outputs": [
    {
     "name": "stdout",
     "output_type": "stream",
     "text": [
      "WARNING:tensorflow:From C:\\Users\\user\\Anaconda3\\envs\\GPU\\lib\\site-packages\\tensorflow\\python\\framework\\op_def_library.py:263: colocate_with (from tensorflow.python.framework.ops) is deprecated and will be removed in a future version.\n",
      "Instructions for updating:\n",
      "Colocations handled automatically by placer.\n",
      "_________________________________________________________________\n",
      "Layer (type)                 Output Shape              Param #   \n",
      "=================================================================\n",
      "input_1 (InputLayer)         (None, 3072)              0         \n",
      "_________________________________________________________________\n",
      "hidden_layer1 (Dense)        (None, 512)               1573376   \n",
      "_________________________________________________________________\n",
      "batch_normalization_1 (Batch (None, 512)               2048      \n",
      "_________________________________________________________________\n",
      "hidden_layer2 (Dense)        (None, 256)               131328    \n",
      "_________________________________________________________________\n",
      "batch_normalization_2 (Batch (None, 256)               1024      \n",
      "_________________________________________________________________\n",
      "hidden_layer3 (Dense)        (None, 128)               32896     \n",
      "_________________________________________________________________\n",
      "batch_normalization_3 (Batch (None, 128)               512       \n",
      "_________________________________________________________________\n",
      "output (Dense)               (None, 10)                1290      \n",
      "=================================================================\n",
      "Total params: 1,742,474\n",
      "Trainable params: 1,740,682\n",
      "Non-trainable params: 1,792\n",
      "_________________________________________________________________\n",
      "WARNING:tensorflow:From C:\\Users\\user\\Anaconda3\\envs\\GPU\\lib\\site-packages\\tensorflow\\python\\ops\\math_ops.py:3066: to_int32 (from tensorflow.python.ops.math_ops) is deprecated and will be removed in a future version.\n",
      "Instructions for updating:\n",
      "Use tf.cast instead.\n",
      "Train on 50000 samples, validate on 10000 samples\n",
      "Epoch 1/50\n",
      "50000/50000 [==============================] - 792s 16ms/step - loss: 2.0053 - acc: 0.3223 - val_loss: 1.9353 - val_acc: 0.3539\n",
      "Epoch 2/50\n",
      "50000/50000 [==============================] - 50s 999us/step - loss: 1.6215 - acc: 0.4319 - val_loss: 1.6662 - val_acc: 0.4170\n",
      "Epoch 3/50\n",
      "50000/50000 [==============================] - 10s 192us/step - loss: 1.5125 - acc: 0.4696 - val_loss: 1.6031 - val_acc: 0.4345\n",
      "Epoch 4/50\n",
      "50000/50000 [==============================] - 8s 163us/step - loss: 1.4384 - acc: 0.4943 - val_loss: 1.6365 - val_acc: 0.4263\n",
      "Epoch 5/50\n",
      "50000/50000 [==============================] - 11s 212us/step - loss: 1.3841 - acc: 0.5156 - val_loss: 1.5386 - val_acc: 0.4594\n",
      "Epoch 6/50\n",
      "50000/50000 [==============================] - 8s 160us/step - loss: 1.3339 - acc: 0.5349 - val_loss: 1.5803 - val_acc: 0.4429\n",
      "Epoch 7/50\n",
      "50000/50000 [==============================] - 10s 203us/step - loss: 1.2921 - acc: 0.5486 - val_loss: 1.5142 - val_acc: 0.4691\n",
      "Epoch 8/50\n",
      "50000/50000 [==============================] - 10s 210us/step - loss: 1.2494 - acc: 0.5643 - val_loss: 1.5017 - val_acc: 0.4720\n",
      "Epoch 9/50\n",
      "50000/50000 [==============================] - 8s 156us/step - loss: 1.2122 - acc: 0.5779 - val_loss: 1.5057 - val_acc: 0.4743\n",
      "Epoch 10/50\n",
      "50000/50000 [==============================] - 10s 190us/step - loss: 1.1767 - acc: 0.5905 - val_loss: 1.4802 - val_acc: 0.4771\n",
      "Epoch 11/50\n",
      "50000/50000 [==============================] - 9s 175us/step - loss: 1.1466 - acc: 0.6004 - val_loss: 1.4709 - val_acc: 0.4780\n",
      "Epoch 12/50\n",
      "50000/50000 [==============================] - 9s 177us/step - loss: 1.1116 - acc: 0.6139 - val_loss: 1.4532 - val_acc: 0.4827\n",
      "Epoch 13/50\n",
      "50000/50000 [==============================] - 8s 164us/step - loss: 1.0766 - acc: 0.6294 - val_loss: 1.4693 - val_acc: 0.4876\n",
      "Epoch 14/50\n",
      "50000/50000 [==============================] - 9s 171us/step - loss: 1.0441 - acc: 0.6399 - val_loss: 1.4654 - val_acc: 0.4890\n",
      "Epoch 15/50\n",
      " 1024/50000 [..............................] - ETA: 1:09 - loss: 1.0464 - acc: 0.6426"
     ]
    },
    {
     "name": "stderr",
     "output_type": "stream",
     "text": [
      "C:\\Users\\user\\Anaconda3\\envs\\GPU\\lib\\site-packages\\keras\\callbacks.py:122: UserWarning: Method on_batch_end() is slow compared to the batch update (0.595178). Check your callbacks.\n",
      "  % delta_t_median)\n",
      "C:\\Users\\user\\Anaconda3\\envs\\GPU\\lib\\site-packages\\keras\\callbacks.py:122: UserWarning: Method on_batch_end() is slow compared to the batch update (0.313242). Check your callbacks.\n",
      "  % delta_t_median)\n"
     ]
    },
    {
     "name": "stdout",
     "output_type": "stream",
     "text": [
      "50000/50000 [==============================] - 11s 227us/step - loss: 1.0142 - acc: 0.6514 - val_loss: 1.4851 - val_acc: 0.4897\n",
      "Epoch 16/50\n",
      "50000/50000 [==============================] - 9s 188us/step - loss: 0.9830 - acc: 0.6647 - val_loss: 1.4810 - val_acc: 0.4904\n",
      "Epoch 17/50\n",
      "50000/50000 [==============================] - 10s 201us/step - loss: 0.9550 - acc: 0.6736 - val_loss: 1.4655 - val_acc: 0.4952\n",
      "Epoch 18/50\n",
      "50000/50000 [==============================] - 9s 179us/step - loss: 0.9279 - acc: 0.6821 - val_loss: 1.5098 - val_acc: 0.4875\n",
      "Epoch 19/50\n",
      "50000/50000 [==============================] - 10s 196us/step - loss: 0.8997 - acc: 0.6956 - val_loss: 1.4905 - val_acc: 0.4894\n",
      "Epoch 20/50\n",
      "50000/50000 [==============================] - 10s 200us/step - loss: 0.8712 - acc: 0.7056 - val_loss: 1.5032 - val_acc: 0.4918\n",
      "Epoch 21/50\n",
      "50000/50000 [==============================] - 9s 188us/step - loss: 0.8427 - acc: 0.7167 - val_loss: 1.5043 - val_acc: 0.4930\n",
      "Epoch 22/50\n",
      "50000/50000 [==============================] - 10s 203us/step - loss: 0.8161 - acc: 0.7278 - val_loss: 1.5504 - val_acc: 0.4867\n",
      "Epoch 00022: early stopping\n"
     ]
    }
   ],
   "source": [
    "# 載入 Callbacks\n",
    "\"\"\"\n",
    "Earlystop setting\n",
    "\"\"\"\n",
    "\n",
    "\"\"\"\n",
    "Your Training loop and Plot the results\n",
    "\"\"\"\n",
    "# 載入 Callbacks\n",
    "from keras.callbacks import EarlyStopping\n",
    "\n",
    "earlystop = EarlyStopping(monitor=\"val_loss\", \n",
    "                          patience=10, \n",
    "                          verbose=1\n",
    "                          )\n",
    "model = build_mlp(input_shape=x_train.shape[1:])\n",
    "model.summary()\n",
    "optimizer = keras.optimizers.SGD(lr=LEARNING_RATE, nesterov=True, momentum=MOMENTUM)\n",
    "model.compile(loss=\"categorical_crossentropy\", metrics=[\"accuracy\"], optimizer=optimizer)\n",
    "\n",
    "model.fit(x_train, y_train, \n",
    "          epochs=EPOCHS, \n",
    "          batch_size=BATCH_SIZE, \n",
    "          validation_data=(x_test, y_test), \n",
    "          shuffle=True,\n",
    "          callbacks=[earlystop]\n",
    "         )\n",
    "\n",
    "# Collect results\n",
    "train_loss = model.history.history[\"loss\"]\n",
    "valid_loss = model.history.history[\"val_loss\"]\n",
    "train_acc = model.history.history[\"acc\"]\n",
    "valid_acc = model.history.history[\"val_acc\"]\n"
   ]
  },
  {
   "cell_type": "code",
   "execution_count": 8,
   "metadata": {},
   "outputs": [
    {
     "data": {
      "image/png": "[encoded data removed]",
      "text/plain": [
       "<Figure size 432x288 with 1 Axes>"
      ]
     },
     "metadata": {
      "needs_background": "light"
     },
     "output_type": "display_data"
    },
    {
     "data": {
      "image/png": "[encoded data removed]",
      "text/plain": [
       "<Figure size 432x288 with 1 Axes>"
      ]
     },
     "metadata": {
      "needs_background": "light"
     },
     "output_type": "display_data"
    }
   ],
   "source": [
    "import matplotlib.pyplot as plt\n",
    "%matplotlib inline\n",
    "\n",
    "plt.plot(range(len(train_loss)), train_loss, label=\"train loss\")\n",
    "plt.plot(range(len(valid_loss)), valid_loss, label=\"valid loss\")\n",
    "plt.legend()\n",
    "plt.title(\"Loss\")\n",
    "plt.show()\n",
    "\n",
    "plt.plot(range(len(train_acc)), train_acc, label=\"train accuracy\")\n",
    "plt.plot(range(len(valid_acc)), valid_acc, label=\"valid accuracy\")\n",
    "plt.legend()\n",
    "plt.title(\"Accuracy\")\n",
    "plt.show()"
   ]
  },
  {
   "cell_type": "code",
   "execution_count": null,
   "metadata": {},
   "outputs": [],
   "source": []
  }
 ],
 "metadata": {
  "kernelspec": {
   "display_name": "Python 3",
   "language": "python",
   "name": "python3"
  },
  "language_info": {
   "codemirror_mode": {
    "name": "ipython",
    "version": 3
   },
   "file_extension": ".py",
   "mimetype": "text/x-python",
   "name": "python",
   "nbconvert_exporter": "python",
   "pygments_lexer": "ipython3",
   "version": "3.6.8"
  }
 },
 "nbformat": 4,
 "nbformat_minor": 2
}
