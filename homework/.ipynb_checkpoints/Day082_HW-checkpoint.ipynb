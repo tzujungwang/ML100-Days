{
 "cells": [
  {
   "cell_type": "markdown",
   "metadata": {},
   "source": [
    "## Work\n",
    "1. 請比較使用不同層數以及不同 Dropout rate 對訓練的效果\n",
    "2. 將 optimizer 改成使用 Adam 並加上適當的 dropout rate 檢視結果"
   ]
  },
  {
   "cell_type": "code",
   "execution_count": 1,
   "metadata": {},
   "outputs": [
    {
     "name": "stderr",
     "output_type": "stream",
     "text": [
      "Using TensorFlow backend.\n"
     ]
    }
   ],
   "source": [
    "import os\n",
    "import keras\n",
    "import itertools\n",
    "# Disable GPU\n",
    "os.environ[\"CUDA_VISIBLE_DEVICES\"] = \"\""
   ]
  },
  {
   "cell_type": "code",
   "execution_count": 2,
   "metadata": {},
   "outputs": [],
   "source": [
    "train, test = keras.datasets.cifar10.load_data()"
   ]
  },
  {
   "cell_type": "code",
   "execution_count": 3,
   "metadata": {},
   "outputs": [],
   "source": [
    "## 資料前處理\n",
    "def preproc_x(x, flatten=True):\n",
    "    x = x / 255.\n",
    "    if flatten:\n",
    "        x = x.reshape((len(x), -1))\n",
    "    return x\n",
    "\n",
    "def preproc_y(y, num_classes=10):\n",
    "    if y.shape[-1] == 1:\n",
    "        y = keras.utils.to_categorical(y, num_classes)\n",
    "    return y    "
   ]
  },
  {
   "cell_type": "code",
   "execution_count": 4,
   "metadata": {},
   "outputs": [],
   "source": [
    "x_train, y_train = train\n",
    "x_test, y_test = test\n",
    "\n",
    "# Preproc the inputs\n",
    "x_train = preproc_x(x_train)\n",
    "x_test = preproc_x(x_test)\n",
    "\n",
    "# Preprc the outputs\n",
    "y_train = preproc_y(y_train)\n",
    "y_test = preproc_y(y_test)"
   ]
  },
  {
   "cell_type": "code",
   "execution_count": 5,
   "metadata": {},
   "outputs": [],
   "source": [
    "\n",
    "from keras.layers import Dropout\n",
    "def build_mlp(input_shape, output_units=10, num_neurons=[512, 256, 128], drp_ratio=0.25):\n",
    "    input_layer = keras.layers.Input(input_shape)\n",
    "    \n",
    "    for i, n_units in enumerate(num_neurons):\n",
    "        if i == 0:\n",
    "            x = keras.layers.Dense(units=n_units, \n",
    "                                   activation=\"relu\", \n",
    "                                   name=\"hidden_layer\"+str(i+1))(input_layer)\n",
    "            x = Dropout(drp_ratio)(x)\n",
    "        else:\n",
    "            x = keras.layers.Dense(units=n_units, \n",
    "                                   activation=\"relu\", \n",
    "                                   name=\"hidden_layer\"+str(i+1))(x)\n",
    "            x = Dropout(drp_ratio)(x)\n",
    "    \n",
    "    out = keras.layers.Dense(units=output_units, activation=\"softmax\", name=\"output\")(x)\n",
    "    \n",
    "    model = keras.models.Model(inputs=[input_layer], outputs=[out])\n",
    "    return model"
   ]
  },
  {
   "cell_type": "code",
   "execution_count": 6,
   "metadata": {},
   "outputs": [],
   "source": [
    "## 超參數設定\n",
    "\"\"\"\n",
    "Set Hyper-parameters here\n",
    "\"\"\"\n",
    "LEARNING_RATE = 1e-3\n",
    "EPOCHS = 20\n",
    "BATCH_SIZE = 256\n",
    "MOMENTUM = 0.8\n",
    "Dropout_EXP = 0.25"
   ]
  },
  {
   "cell_type": "code",
   "execution_count": 8,
   "metadata": {
    "scrolled": true
   },
   "outputs": [
    {
     "name": "stdout",
     "output_type": "stream",
     "text": [
      "_________________________________________________________________\n",
      "Layer (type)                 Output Shape              Param #   \n",
      "=================================================================\n",
      "input_2 (InputLayer)         (None, 3072)              0         \n",
      "_________________________________________________________________\n",
      "hidden_layer1 (Dense)        (None, 512)               1573376   \n",
      "_________________________________________________________________\n",
      "dropout_4 (Dropout)          (None, 512)               0         \n",
      "_________________________________________________________________\n",
      "hidden_layer2 (Dense)        (None, 256)               131328    \n",
      "_________________________________________________________________\n",
      "dropout_5 (Dropout)          (None, 256)               0         \n",
      "_________________________________________________________________\n",
      "hidden_layer3 (Dense)        (None, 128)               32896     \n",
      "_________________________________________________________________\n",
      "dropout_6 (Dropout)          (None, 128)               0         \n",
      "_________________________________________________________________\n",
      "output (Dense)               (None, 10)                1290      \n",
      "=================================================================\n",
      "Total params: 1,738,890\n",
      "Trainable params: 1,738,890\n",
      "Non-trainable params: 0\n",
      "_________________________________________________________________\n",
      "WARNING:tensorflow:From C:\\Users\\user\\Anaconda3\\envs\\GPU\\lib\\site-packages\\tensorflow\\python\\ops\\math_ops.py:3066: to_int32 (from tensorflow.python.ops.math_ops) is deprecated and will be removed in a future version.\n",
      "Instructions for updating:\n",
      "Use tf.cast instead.\n",
      "Train on 50000 samples, validate on 10000 samples\n",
      "Epoch 1/20\n",
      "50000/50000 [==============================] - 633s 13ms/step - loss: 2.2649 - acc: 0.1465 - val_loss: 2.1314 - val_acc: 0.2452\n",
      "Epoch 2/20\n",
      "50000/50000 [==============================] - 11s 219us/step - loss: 2.1393 - acc: 0.2070 - val_loss: 2.0281 - val_acc: 0.2782\n",
      "Epoch 3/20\n",
      "50000/50000 [==============================] - 11s 223us/step - loss: 2.0714 - acc: 0.2337 - val_loss: 1.9735 - val_acc: 0.2966\n",
      "Epoch 4/20\n",
      "50000/50000 [==============================] - 12s 247us/step - loss: 2.0273 - acc: 0.2544 - val_loss: 1.9357 - val_acc: 0.3120\n",
      "Epoch 5/20\n",
      "50000/50000 [==============================] - 12s 232us/step - loss: 1.9912 - acc: 0.2747 - val_loss: 1.8990 - val_acc: 0.3245\n",
      "Epoch 6/20\n",
      "50000/50000 [==============================] - 11s 227us/step - loss: 1.9611 - acc: 0.2862 - val_loss: 1.8727 - val_acc: 0.3391\n",
      "Epoch 7/20\n",
      "50000/50000 [==============================] - 11s 228us/step - loss: 1.9370 - acc: 0.2979 - val_loss: 1.8506 - val_acc: 0.34611\n",
      "Epoch 8/20\n",
      "50000/50000 [==============================] - 12s 245us/step - loss: 1.9164 - acc: 0.3056 - val_loss: 1.8319 - val_acc: 0.3622\n",
      "Epoch 9/20\n",
      "50000/50000 [==============================] - 11s 225us/step - loss: 1.8975 - acc: 0.3173 - val_loss: 1.8098 - val_acc: 0.3646- acc: 0.31\n",
      "Epoch 10/20\n",
      "50000/50000 [==============================] - 12s 230us/step - loss: 1.8824 - acc: 0.3203 - val_loss: 1.7951 - val_acc: 0.3719\n",
      "Epoch 11/20\n",
      "50000/50000 [==============================] - 13s 252us/step - loss: 1.8661 - acc: 0.3242 - val_loss: 1.7806 - val_acc: 0.3719\n",
      "Epoch 12/20\n",
      "50000/50000 [==============================] - 12s 239us/step - loss: 1.8530 - acc: 0.3332 - val_loss: 1.7664 - val_acc: 0.3786\n",
      "Epoch 13/20\n",
      "50000/50000 [==============================] - 11s 215us/step - loss: 1.8388 - acc: 0.3389 - val_loss: 1.7532 - val_acc: 0.3853\n",
      "Epoch 14/20\n",
      "50000/50000 [==============================] - 11s 212us/step - loss: 1.8262 - acc: 0.3423 - val_loss: 1.7401 - val_acc: 0.3869\n",
      "Epoch 15/20\n",
      "50000/50000 [==============================] - 12s 237us/step - loss: 1.8165 - acc: 0.3479 - val_loss: 1.7305 - val_acc: 0.3885\n",
      "Epoch 16/20\n",
      "50000/50000 [==============================] - 11s 220us/step - loss: 1.8044 - acc: 0.3521 - val_loss: 1.7168 - val_acc: 0.3930-  - ETA: 3s - loss: 1.8090 - acc: 0 - ETA: 2s - loss: 1.8084 -  - ETA: 2s - loss: 1.8068 - acc:  - ETA: 2s - loss: 1.8056 - acc: - ETA: 1s  - ETA: 0s - loss: 1.8052 - acc: 0.\n",
      "Epoch 17/20\n",
      "50000/50000 [==============================] - 11s 226us/step - loss: 1.7925 - acc: 0.3594 - val_loss: 1.7100 - val_acc: 0.3923\n",
      "Epoch 18/20\n",
      "50000/50000 [==============================] - 12s 247us/step - loss: 1.7816 - acc: 0.3604 - val_loss: 1.6954 - val_acc: 0.39982 - acc:  - ETA: 7s - loss: 1.7862 - acc: 0.359 - ETA\n",
      "Epoch 19/20\n",
      "50000/50000 [==============================] - 11s 228us/step - loss: 1.7736 - acc: 0.3633 - val_loss: 1.6885 - val_acc: 0.4035\n",
      "Epoch 20/20\n",
      "50000/50000 [==============================] - 11s 227us/step - loss: 1.7679 - acc: 0.3670 - val_loss: 1.6791 - val_acc: 0.4075s: 1.7720 - acc: 0.37 - ETA:  - ETA: 3s - loss: 1.7664 - acc: 0.365 - ETA: 3s - lo\n"
     ]
    }
   ],
   "source": [
    "results = {}\n",
    "\"\"\"\n",
    "Write your training loop and record results\n",
    "\"\"\"\n",
    "model = build_mlp(input_shape=x_train.shape[1:], drp_ratio=Dropout_EXP)\n",
    "model.summary()\n",
    "optimizer = keras.optimizers.SGD(lr=LEARNING_RATE, nesterov=True, momentum=MOMENTUM)\n",
    "model.compile(loss=\"categorical_crossentropy\", metrics=[\"accuracy\"], optimizer=optimizer)\n",
    "\n",
    "model.fit(x_train, y_train, \n",
    "          epochs=EPOCHS, \n",
    "          batch_size=BATCH_SIZE, \n",
    "          validation_data=(x_test, y_test), \n",
    "          shuffle=True)\n",
    "\n",
    "# Collect results\n",
    "train_loss = model.history.history[\"loss\"]\n",
    "valid_loss = model.history.history[\"val_loss\"]\n",
    "train_acc = model.history.history[\"acc\"]\n",
    "valid_acc = model.history.history[\"val_acc\"]"
   ]
  },
  {
   "cell_type": "code",
   "execution_count": 9,
   "metadata": {},
   "outputs": [
    {
     "data": {
      "image/png": "[encoded data removed]",
      "text/plain": [
       "<Figure size 432x288 with 1 Axes>"
      ]
     },
     "metadata": {
      "needs_background": "light"
     },
     "output_type": "display_data"
    },
    {
     "data": {
      "image/png": "[encoded data removed]",
      "text/plain": [
       "<Figure size 432x288 with 1 Axes>"
      ]
     },
     "metadata": {
      "needs_background": "light"
     },
     "output_type": "display_data"
    }
   ],
   "source": [
    "import matplotlib.pyplot as plt\n",
    "%matplotlib inline\n",
    "\"\"\"\n",
    "Plot results\n",
    "\"\"\"\n",
    "import matplotlib.pyplot as plt\n",
    "%matplotlib inline\n",
    "\n",
    "plt.plot(range(len(train_loss)), train_loss, label=\"train loss\")\n",
    "plt.plot(range(len(valid_loss)), valid_loss, label=\"valid loss\")\n",
    "plt.legend()\n",
    "plt.title(\"Loss\")\n",
    "plt.show()\n",
    "\n",
    "plt.plot(range(len(train_acc)), train_acc, label=\"train accuracy\")\n",
    "plt.plot(range(len(valid_acc)), valid_acc, label=\"valid accuracy\")\n",
    "plt.legend()\n",
    "plt.title(\"Accuracy\")\n",
    "plt.show()"
   ]
  },
  {
   "cell_type": "code",
   "execution_count": null,
   "metadata": {},
   "outputs": [],
   "source": []
  }
 ],
 "metadata": {
  "kernelspec": {
   "display_name": "Python 3",
   "language": "python",
   "name": "python3"
  },
  "language_info": {
   "codemirror_mode": {
    "name": "ipython",
    "version": 3
   },
   "file_extension": ".py",
   "mimetype": "text/x-python",
   "name": "python",
   "nbconvert_exporter": "python",
   "pygments_lexer": "ipython3",
   "version": "3.6.8"
  }
 },
 "nbformat": 4,
 "nbformat_minor": 2
}
